{
 "cells": [
  {
   "cell_type": "code",
   "execution_count": null,
   "metadata": {},
   "outputs": [],
   "source": [
    "from PIL import Image\n",
    "\n",
    "\n",
    "def read_image(img_path, show=False):\n",
    "    \"\"\"Reads an image into memory as a grayscale array.\n",
    "    \"\"\"\n",
    "    img = cv2.imread(img_path, cv2.IMREAD_GRAYSCALE)\n",
    "\n",
    "    if show:\n",
    "        show_image(img)\n",
    "\n",
    "    return img\n",
    "\n",
    "def show_image(img, delay=1000):\n",
    "    \"\"\"Shows an image.\n",
    "    \"\"\"\n",
    "    cv2.namedWindow('image', cv2.WINDOW_AUTOSIZE)\n",
    "    cv2.imshow('image', img)\n",
    "    cv2.waitKey(delay)\n",
    "    cv2.destroyAllWindows()"
   ]
  }
 ],
 "metadata": {
  "language_info": {
   "name": "python"
  },
  "orig_nbformat": 4
 },
 "nbformat": 4,
 "nbformat_minor": 2
}
